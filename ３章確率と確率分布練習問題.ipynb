{
 "cells": [
  {
   "cell_type": "markdown",
   "metadata": {},
   "source": [
    "#階乗の求め方\n",
    "参考になるURL\n",
    "http://kaisk.hatenadiary.com/entry/2015/02/17/192955\n",
    "http://turbare.net/transl/scipy-lecture-notes/intro/scipy.html\n",
    "\n",
    "```python\n",
    "import math as m\n",
    "m.factorial(5)\n",
    "```"
   ]
  },
  {
   "cell_type": "code",
   "execution_count": null,
   "metadata": {
    "collapsed": true
   },
   "outputs": [],
   "source": []
  },
  {
   "cell_type": "code",
   "execution_count": 2,
   "metadata": {
    "collapsed": false
   },
   "outputs": [
    {
     "name": "stdout",
     "output_type": "stream",
     "text": [
      "120\n"
     ]
    }
   ],
   "source": [
    "import math as m\n",
    "print(m.factorial(5))"
   ]
  },
  {
   "cell_type": "markdown",
   "metadata": {},
   "source": [
    "#3-6問題\n",
    "p=0.005,n=10,000\n",
    "全ての本に落丁がある確率"
   ]
  },
  {
   "cell_type": "code",
   "execution_count": 6,
   "metadata": {
    "collapsed": false
   },
   "outputs": [
    {
     "data": {
      "text/plain": [
       "0.0"
      ]
     },
     "execution_count": 6,
     "metadata": {},
     "output_type": "execute_result"
    }
   ],
   "source": [
    "import math as m\n",
    "import scipy.stats\n",
    "import scipy.misc\n",
    "\n",
    "p = 0.005\n",
    "n = 10000\n",
    "scipy.misc.comb(n,n)*pow(p,n)*pow(1-p,n-n)\n"
   ]
  },
  {
   "cell_type": "markdown",
   "metadata": {},
   "source": [
    "全ての本に落丁がない確率"
   ]
  },
  {
   "cell_type": "code",
   "execution_count": 8,
   "metadata": {
    "collapsed": false
   },
   "outputs": [
    {
     "data": {
      "text/plain": [
       "1.701404030394225e-22"
      ]
     },
     "execution_count": 8,
     "metadata": {},
     "output_type": "execute_result"
    }
   ],
   "source": [
    "import math as m\n",
    "import scipy.stats\n",
    "import scipy.misc\n",
    "\n",
    "p = 0.005\n",
    "n = 10000\n",
    "x = 0\n",
    "scipy.misc.comb(n,x)*pow(p,x)*pow(1-p,n-x)"
   ]
  },
  {
   "cell_type": "markdown",
   "metadata": {},
   "source": [
    "落丁の平均値、標準偏差"
   ]
  },
  {
   "cell_type": "code",
   "execution_count": 10,
   "metadata": {
    "collapsed": false
   },
   "outputs": [
    {
     "name": "stdout",
     "output_type": "stream",
     "text": [
      "50.0\n",
      "7.053367989832942\n"
     ]
    }
   ],
   "source": [
    "import math as m\n",
    "\n",
    "n = 10000\n",
    "p = 0.005\n",
    "print(n*p)\n",
    "print(m.sqrt(n*p*(1-p)))"
   ]
  },
  {
   "cell_type": "markdown",
   "metadata": {},
   "source": [
    "#3-7問題"
   ]
  },
  {
   "cell_type": "code",
   "execution_count": 12,
   "metadata": {
    "collapsed": false
   },
   "outputs": [
    {
     "data": {
      "text/plain": [
       "1.2676506002282013e-70"
      ]
     },
     "execution_count": 12,
     "metadata": {},
     "output_type": "execute_result"
    }
   ],
   "source": [
    "import math as m\n",
    "import scipy.misc\n",
    "\n",
    "n = 100\n",
    "p = 0.8\n",
    "x = 0\n",
    "scipy.misc.comb(n,x)*pow(p,x)*pow(1-p,n-x)"
   ]
  },
  {
   "cell_type": "code",
   "execution_count": 13,
   "metadata": {
    "collapsed": false
   },
   "outputs": [
    {
     "data": {
      "text/plain": [
       "1.6212613988670742e-11"
      ]
     },
     "execution_count": 13,
     "metadata": {},
     "output_type": "execute_result"
    }
   ],
   "source": [
    "import math as m\n",
    "import scipy.misc\n",
    "\n",
    "n = 100\n",
    "p = 0.8\n",
    "x = 50\n",
    "scipy.misc.comb(n,x)*pow(p,x)*pow(1-p,n-x)"
   ]
  },
  {
   "cell_type": "code",
   "execution_count": 14,
   "metadata": {
    "collapsed": false
   },
   "outputs": [
    {
     "data": {
      "text/plain": [
       "2.0370359763344975e-10"
      ]
     },
     "execution_count": 14,
     "metadata": {},
     "output_type": "execute_result"
    }
   ],
   "source": [
    "import math as m\n",
    "import scipy.misc\n",
    "\n",
    "n = 100\n",
    "p = 0.8\n",
    "x = 100\n",
    "scipy.misc.comb(n,x)*pow(p,x)*pow(1-p,n-x)"
   ]
  },
  {
   "cell_type": "code",
   "execution_count": 15,
   "metadata": {
    "collapsed": false
   },
   "outputs": [
    {
     "name": "stdout",
     "output_type": "stream",
     "text": [
      "80.0\n",
      "3.9999999999999996\n"
     ]
    }
   ],
   "source": [
    "import math as m\n",
    "import scipy.misc\n",
    "\n",
    "n = 100\n",
    "p = 0.8\n",
    "x = 50\n",
    "print(n*p)\n",
    "print(m.sqrt(n*p*(1-p)))"
   ]
  },
  {
   "cell_type": "code",
   "execution_count": 21,
   "metadata": {
    "collapsed": false,
    "scrolled": true
   },
   "outputs": [
    {
     "data": {
      "text/plain": [
       "[<matplotlib.lines.Line2D at 0x7c9f240>]"
      ]
     },
     "execution_count": 21,
     "metadata": {},
     "output_type": "execute_result"
    },
    {
     "data": {
      "image/png": "[encoded data removed]",
      "text/plain": [
       "<matplotlib.figure.Figure at 0x7ad90f0>"
      ]
     },
     "metadata": {},
     "output_type": "display_data"
    }
   ],
   "source": [
    "import math as m\n",
    "import scipy.misc\n",
    "import matplotlib.pyplot as plt\n",
    "%matplotlib inline\n",
    "n = 100\n",
    "p = 0.8\n",
    "x = 50\n",
    "px = [(scipy.misc.comb(n,x)*pow(p,x)*pow(1-p,n-x)) for x in range(0,101) ]\n",
    "plt.plot(px)\n"
   ]
  },
  {
   "cell_type": "code",
   "execution_count": 6,
   "metadata": {
    "collapsed": false
   },
   "outputs": [
    {
     "name": "stdout",
     "output_type": "stream",
     "text": [
      "[ 0.28099489 -1.29550463  0.18384381 -0.5135112  -0.24435571  0.19976448\n",
      "  1.51231291 -1.55804593 -0.54724839 -0.64007325]\n"
     ]
    }
   ],
   "source": [
    "from scipy.stats import norm \n",
    "\n",
    "x = norm.rvs(loc=0.0,scale=1.0,size=10)\n",
    "print(x)"
   ]
  },
  {
   "cell_type": "code",
   "execution_count": 8,
   "metadata": {
    "collapsed": false
   },
   "outputs": [
    {
     "name": "stdout",
     "output_type": "stream",
     "text": [
      "(-1.959963984540054, 1.959963984540054)\n"
     ]
    }
   ],
   "source": [
    "from scipy.stats import norm \n",
    "\n",
    "x = norm.interval(alpha=0.95,loc=0,scale=1)\n",
    "print(x)"
   ]
  }
 ],
 "metadata": {
  "kernelspec": {
   "display_name": "Python 3",
   "language": "python",
   "name": "python3"
  },
  "language_info": {
   "codemirror_mode": {
    "name": "ipython",
    "version": 3
   },
   "file_extension": ".py",
   "mimetype": "text/x-python",
   "name": "python",
   "nbconvert_exporter": "python",
   "pygments_lexer": "ipython3",
   "version": "3.5.1"
  }
 },
 "nbformat": 4,
 "nbformat_minor": 0
}
