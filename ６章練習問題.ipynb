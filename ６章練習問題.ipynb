{
 "cells": [
  {
   "cell_type": "markdown",
   "metadata": {},
   "source": [
    "#### ｔ分布"
   ]
  },
  {
   "cell_type": "markdown",
   "metadata": {},
   "source": [
    "ｔ分布に従う乱数\n",
    "dfは自由度"
   ]
  },
  {
   "cell_type": "code",
   "execution_count": 4,
   "metadata": {
    "collapsed": false
   },
   "outputs": [
    {
     "data": {
      "text/plain": [
       "array([ 2.07840094,  5.27379493,  0.94936126, -0.65048414,  1.51519286,\n",
       "       -1.2830317 ,  0.02162901, -0.56188669, -1.64606259, -3.95366185])"
      ]
     },
     "execution_count": 4,
     "metadata": {},
     "output_type": "execute_result"
    }
   ],
   "source": [
    "from scipy.stats import t\n",
    "df =1\n",
    "t.rvs(df,loc=0,scale=1,size=10)\n"
   ]
  },
  {
   "cell_type": "markdown",
   "metadata": {},
   "source": [
    "生存関数\n",
    "自由度"
   ]
  },
  {
   "cell_type": "code",
   "execution_count": 70,
   "metadata": {
    "collapsed": false
   },
   "outputs": [
    {
     "data": {
      "text/plain": [
       "9.3654792503266737"
      ]
     },
     "execution_count": 70,
     "metadata": {},
     "output_type": "execute_result"
    },
    {
     "data": {
      "image/png": "[encoded data removed]",
      "text/plain": [
       "<matplotlib.figure.Figure at 0xb1fd588>"
      ]
     },
     "metadata": {},
     "output_type": "display_data"
    }
   ],
   "source": [
    "from scipy.stats import t\n",
    "import matplotlib.pyplot as plt\n",
    "%matplotlib inline\n",
    "\n",
    "p = [t.pdf(x/10,1) for x in range(-100,100)]\n",
    "plt.plot(p)\n",
    "p1 = [t.pdf(x/10,5) for x in range(-100,100)]\n",
    "plt.plot(p1)\n",
    "p2 = [t.pdf(x/10,10) for x in range(-100,100)]\n",
    "plt.plot(p2)\n",
    "p3 = [t.pdf(x/10,100) for x in range(-100,100)]\n",
    "plt.plot(p3)\n",
    "sum(p)"
   ]
  },
  {
   "cell_type": "code",
   "execution_count": 13,
   "metadata": {
    "collapsed": false
   },
   "outputs": [
    {
     "name": "stdout",
     "output_type": "stream",
     "text": [
      "2551.0 46.57252408878007\n"
     ]
    },
    {
     "data": {
      "text/plain": [
       "-2517.686337883685"
      ]
     },
     "execution_count": 13,
     "metadata": {},
     "output_type": "execute_result"
    }
   ],
   "source": [
    "import  math as m\n",
    "list = [2610,2480,2560,2590,2490,2570,2560,2520,2510,2620]\n",
    "av = sum(list)/len(list)\n",
    "o=sum([(x-av)**2 for x in list])/len(list)\n",
    "print (av,m.sqrt(o))\n",
    "2.262*m.sqrt(o)/m.sqrt(10)-av"
   ]
  },
  {
   "cell_type": "code",
   "execution_count": 15,
   "metadata": {
    "collapsed": false
   },
   "outputs": [
    {
     "data": {
      "text/plain": [
       "74.908"
      ]
     },
     "execution_count": 15,
     "metadata": {},
     "output_type": "execute_result"
    }
   ],
   "source": [
    "import math as m\n",
    "print(71.2-2.06*9/m.sqrt(25))\n",
    "print(71.2+2.06*9/m.sqrt(25))\n"
   ]
  },
  {
   "cell_type": "code",
   "execution_count": 19,
   "metadata": {
    "collapsed": false
   },
   "outputs": [
    {
     "name": "stdout",
     "output_type": "stream",
     "text": [
      "3.875\n"
     ]
    }
   ],
   "source": [
    "import math as m\n",
    "list=[5,2,4,7,6,4,4,3,4,3,4,3,3,3,5,2]\n",
    "n=len(list)\n",
    "sm =sum(list)\n",
    "av = sm / n\n",
    "o2 = sum([(x-av)**2 for x in list])/(n-1)\n",
    "o = m.sqrt(o2)\n",
    "z=2.131\n",
    "print(((av+z*o/m.sqrt(n))-(av-z*o/m.sqrt(n)))/2+(av-z*o/m.sqrt(n)))"
   ]
  },
  {
   "cell_type": "code",
   "execution_count": 28,
   "metadata": {
    "collapsed": false
   },
   "outputs": [
    {
     "name": "stdout",
     "output_type": "stream",
     "text": [
      "21.09 3.0917273129721163\n",
      "19.29789419093068     22.88210580906932\n",
      "16.4 25.8\n"
     ]
    }
   ],
   "source": [
    "import math as m\n",
    "\n",
    "list = [22.8,19.7,25.8,21.1,19.6,25.6,18.3,19,22.6,16.4]\n",
    "n = len(list)\n",
    "sm = sum(list)\n",
    "av = sm/n\n",
    "z = 1.833\n",
    "s2 = sum([(x-av)**2 for x in list])/(n-1)\n",
    "s = m.sqrt(s2)\n",
    "print (av,s)\n",
    "print(av-z*s/m.sqrt(n),\"   \",av+z*s/m.sqrt(n))\n",
    "print(min(list),max(list))"
   ]
  },
  {
   "cell_type": "code",
   "execution_count": 29,
   "metadata": {
    "collapsed": false
   },
   "outputs": [
    {
     "name": "stdout",
     "output_type": "stream",
     "text": [
      "65.94141523316652\n"
     ]
    }
   ],
   "source": [
    "import math as m\n",
    "n = 31\n",
    "ax = 60\n",
    "s = 16.2\n",
    "z= 2.042\n",
    "print (60+z*s/m.sqrt(n))\n"
   ]
  },
  {
   "cell_type": "code",
   "execution_count": 30,
   "metadata": {
    "collapsed": false
   },
   "outputs": [
    {
     "name": "stdout",
     "output_type": "stream",
     "text": [
      "111.84590711548913     128.15409288451087\n"
     ]
    }
   ],
   "source": [
    "import math as m\n",
    "n=52\n",
    "av=120\n",
    "s=30\n",
    "z=1.96\n",
    "print(av-z*s/m.sqrt(n),\"   \",av+z*s/m.sqrt(n))181"
   ]
  },
  {
   "cell_type": "code",
   "execution_count": 36,
   "metadata": {
    "collapsed": false
   },
   "outputs": [
    {
     "name": "stdout",
     "output_type": "stream",
     "text": [
      "2.0918367346938775\n"
     ]
    }
   ],
   "source": [
    "import math as m\n",
    "list=[168,141,157,151,160]\n",
    "n=len(list)\n",
    "sm = sum(list)\n",
    "av=155\n",
    "print(sum([(x-av)**2 for x in list])/pow(14,2))\n"
   ]
  },
  {
   "cell_type": "code",
   "execution_count": 43,
   "metadata": {
    "collapsed": false
   },
   "outputs": [
    {
     "data": {
      "text/plain": [
       "2.6424115200000013"
      ]
     },
     "execution_count": 43,
     "metadata": {},
     "output_type": "execute_result"
    }
   ],
   "source": [
    "from  scipy.misc import comb \n",
    "100*comb(10,5)*((1/5)**5)*(4/5)**5\n"
   ]
  },
  {
   "cell_type": "code",
   "execution_count": 59,
   "metadata": {
    "collapsed": false
   },
   "outputs": [
    {
     "data": {
      "text/plain": [
       "2.5758293035489004"
      ]
     },
     "execution_count": 59,
     "metadata": {},
     "output_type": "execute_result"
    }
   ],
   "source": [
    "from scipy.stats import chi2\n",
    "\n",
    "chi.ppf(q=1-0.01,df=1)"
   ]
  },
  {
   "cell_type": "code",
   "execution_count": 62,
   "metadata": {
    "collapsed": false
   },
   "outputs": [
    {
     "name": "stdout",
     "output_type": "stream",
     "text": [
      "14.605934866804429\n",
      "5.505977612893482\n"
     ]
    }
   ],
   "source": [
    "import math as m\n",
    "\n",
    "print(m.sqrt((10-1)*(8**2)/2.7))\n",
    "print(m.sqrt((10-1)*(8**2)/19))"
   ]
  }
 ],
 "metadata": {
  "kernelspec": {
   "display_name": "Python 3",
   "language": "python",
   "name": "python3"
  },
  "language_info": {
   "codemirror_mode": {
    "name": "ipython",
    "version": 3
   },
   "file_extension": ".py",
   "mimetype": "text/x-python",
   "name": "python",
   "nbconvert_exporter": "python",
   "pygments_lexer": "ipython3",
   "version": "3.5.1"
  }
 },
 "nbformat": 4,
 "nbformat_minor": 0
}
